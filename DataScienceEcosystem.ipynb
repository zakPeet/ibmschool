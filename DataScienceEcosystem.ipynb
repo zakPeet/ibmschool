{
 "cells": [
  {
   "cell_type": "markdown",
   "id": "be67273b-da2a-4e18-950e-4d7a5a23e365",
   "metadata": {
    "tags": []
   },
   "source": [
    "# Data Science Tools and Ecosystem"
   ]
  },
  {
   "cell_type": "markdown",
   "id": "f5615e32-2dba-41eb-a661-53a8bab60de9",
   "metadata": {},
   "source": [
    "In this notebook, Data Science Tools and Ecosystem are summarized."
   ]
  },
  {
   "cell_type": "markdown",
   "id": "bbbcd9d3-b7e1-41d8-8691-5cba307e82c7",
   "metadata": {},
   "source": [
    "Objectives:\n",
    "- List popular languages for Data Science\n",
    "- List popular libraries in data science\n",
    "- List Some Data Science Tools\n",
    "- Evaluate some arithmetic expressions in python\n",
    "\n"
   ]
  },
  {
   "cell_type": "markdown",
   "id": "da2ae909-e2d2-46ae-adbf-77434ad588f0",
   "metadata": {
    "tags": []
   },
   "source": [
    "##Author\n",
    "Zakaria Nduiga"
   ]
  },
  {
   "cell_type": "markdown",
   "id": "c2d982be-5da1-4ec1-bdfb-0ad935d29ea9",
   "metadata": {},
   "source": [
    "Some of the popular languages that Data Scientists use are:\n",
    "1. Python\n",
    "2. R\n",
    "3. SQL"
   ]
  },
  {
   "cell_type": "markdown",
   "id": "b35d7449-2584-4fbd-a57d-a6c0330733cc",
   "metadata": {},
   "source": [
    "Some of the commonly used libraries used by Data Scientists include:\n",
    "1. Numpy\n",
    "2. Pandas\n",
    "3. ggplot"
   ]
  },
  {
   "cell_type": "markdown",
   "id": "5ba6481f-2a66-4d40-a323-2b7f4c566dc7",
   "metadata": {},
   "source": [
    "| Data Science Tools      |\n",
    "|-------------------------|\n",
    "| Jupyter Notebook        |\n",
    "| RStudio                 |\n",
    "| Visual Studio Code      |\n"
   ]
  },
  {
   "cell_type": "markdown",
   "id": "7657078e-08d8-4f01-9bf4-22439c176c26",
   "metadata": {},
   "source": [
    "Below are a few examples of evaluating arithmetic expressions in Python."
   ]
  },
  {
   "cell_type": "code",
   "execution_count": 1,
   "id": "e9640aa7-3ba2-4563-a847-93a84c326da6",
   "metadata": {
    "tags": []
   },
   "outputs": [
    {
     "data": {
      "text/plain": [
       "17"
      ]
     },
     "execution_count": 1,
     "metadata": {},
     "output_type": "execute_result"
    }
   ],
   "source": [
    "#This a simple arithmetic expression to mutiply then add integers\n",
    "(3*4)+5"
   ]
  },
  {
   "cell_type": "code",
   "execution_count": 2,
   "id": "e02c2425-8372-43c3-823f-68110027a033",
   "metadata": {
    "tags": []
   },
   "outputs": [
    {
     "data": {
      "text/plain": [
       "3.3333333333333335"
      ]
     },
     "execution_count": 2,
     "metadata": {},
     "output_type": "execute_result"
    }
   ],
   "source": [
    "#This will convert 200 minutes to hours by diving by 60\n",
    "200/60"
   ]
  },
  {
   "cell_type": "code",
   "execution_count": null,
   "id": "81904b83-dc36-413a-87ab-e96a5f33ad85",
   "metadata": {},
   "outputs": [],
   "source": []
  }
 ],
 "metadata": {
  "kernelspec": {
   "display_name": "Python 3 (ipykernel)",
   "language": "python",
   "name": "python3"
  },
  "language_info": {
   "codemirror_mode": {
    "name": "ipython",
    "version": 3
   },
   "file_extension": ".py",
   "mimetype": "text/x-python",
   "name": "python",
   "nbconvert_exporter": "python",
   "pygments_lexer": "ipython3",
   "version": "3.11.5"
  }
 },
 "nbformat": 4,
 "nbformat_minor": 5
}
